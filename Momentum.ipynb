{
 "cells": [
  {
   "cell_type": "code",
   "execution_count": null,
   "metadata": {},
   "outputs": [],
   "source": [
    "import numpy as np\n",
    "import pandas as pd\n",
    "import matplotlib.pyplot as plt\n",
    "\n",
    "import tensorflow as tf\n",
    "from tensorflow.examples.tutorials.mnist import input_data\n",
    "from keras.utils import np_utils\n",
    "\n",
    "plt.style.use(\"fivethirtyeight\")\n",
    "%matplotlib inline"
   ]
  },
  {
   "cell_type": "code",
   "execution_count": null,
   "metadata": {},
   "outputs": [],
   "source": [
    "# fetch data\n",
    "mnist = input_data.read_data_sets(\"MNIST_data/\", one_hot=True)\n",
    "\n",
    "# momentum hyperparam\n",
    "n_dimensions = mnist.train.images[0].shape[0]\n",
    "n_classes = mnist.train.labels[0].shape[0]\n",
    "beta = 0.9  # friction... how much of the previous momentum vector do you keep?\n",
    "lr = 1e-2  # step size aka learning rate"
   ]
  },
  {
   "cell_type": "code",
   "execution_count": null,
   "metadata": {},
   "outputs": [],
   "source": [
    "# construct graph\n",
    "\n",
    "tf.reset_default_graph()\n",
    "\n",
    "with tf.variable_scope(\"inputs\"):\n",
    "    X_ = tf.placeholder(tf.float32, [None, n_dimensions], name=\"X\")\n",
    "    y_ = tf.placeholder(tf.float32, [None, n_classes], name=\"y\")\n",
    "\n",
    "with tf.variable_scope(\"model\"):\n",
    "    fc1 = tf.layers.dense(inputs=X_, units=n_classes, name='fc1', activation=tf.nn.relu)  \n",
    "    \n",
    "with tf.variable_scope('model/fc1', reuse=True):\n",
    "    w = tf.get_variable('kernel')\n",
    "\n",
    "probs = tf.nn.softmax(fc1)\n",
    "loss = tf.losses.log_loss(labels=y_, predictions=probs)\n",
    "grad = tf.gradients(loss, w1)[0]  # raw gradients of loss function wrt params\n",
    "\n",
    "m_vector = tf.Variable(tf.zeros([784, 10]), name=\"momentum\")  # accumulates gradients over n_epochs\n",
    "\n",
    "with tf.variable_scope(\"step\"):\n",
    "    \n",
    "    # update momentum vector before updating parameters\n",
    "    update_m_vector = m_vector.assign(beta * m_vector - (lr * grad))\n",
    "    update_params = w.assign(w + m_vector)\n",
    "    \n",
    "init = tf.global_variables_initializer()"
   ]
  },
  {
   "cell_type": "code",
   "execution_count": null,
   "metadata": {},
   "outputs": [],
   "source": [
    "n_epochs = 1000\n",
    "batch_size = 32\n",
    "\n",
    "ls_loss = []\n",
    "\n",
    "with tf.Session() as sess:  \n",
    "    sess.run(init)\n",
    "    \n",
    "    for epoch in range(n_epochs):\n",
    "        batch_xs, batch_ys = mnist.train.next_batch(batch_size)\n",
    "        \n",
    "        # first, update momentum vector\n",
    "        _ = sess.run(update_m_vector, feed_dict={X_: batch_xs, y_: batch_ys})\n",
    "        \n",
    "        # then, update parameter\n",
    "        _, loss_ = sess.run([update_params, loss], feed_dict={X_: batch_xs, y_: batch_ys})\n",
    "        ls_loss.append(loss_)\n",
    "        \n",
    "# pretty plot\n",
    "rolling_plot = pd.Series(ls_loss).rolling(window=50).mean()\n",
    "plt.plot(rolling_plot)\n",
    "plt.xlabel(\"epochs\")\n",
    "plt.ylabel(\"loss\")\n",
    "plt.title(\"momentum optimizer\")"
   ]
  },
  {
   "cell_type": "code",
   "execution_count": null,
   "metadata": {},
   "outputs": [],
   "source": []
  }
 ],
 "metadata": {
  "kernelspec": {
   "display_name": "Python 3",
   "language": "python",
   "name": "python3"
  },
  "language_info": {
   "codemirror_mode": {
    "name": "ipython",
    "version": 3
   },
   "file_extension": ".py",
   "mimetype": "text/x-python",
   "name": "python",
   "nbconvert_exporter": "python",
   "pygments_lexer": "ipython3",
   "version": "3.7.3"
  }
 },
 "nbformat": 4,
 "nbformat_minor": 2
}
