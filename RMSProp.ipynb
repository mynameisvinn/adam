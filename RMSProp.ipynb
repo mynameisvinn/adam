{
 "cells": [
  {
   "cell_type": "code",
   "execution_count": null,
   "metadata": {},
   "outputs": [],
   "source": [
    "import numpy as np\n",
    "import pandas as pd\n",
    "from tqdm import tqdm\n",
    "import matplotlib.pyplot as plt\n",
    "\n",
    "import tensorflow as tf\n",
    "from tensorflow.examples.tutorials.mnist import input_data\n",
    "from keras.utils import np_utils\n",
    "\n",
    "plt.style.use(\"ggplot\")\n",
    "%matplotlib inline"
   ]
  },
  {
   "cell_type": "code",
   "execution_count": null,
   "metadata": {},
   "outputs": [],
   "source": [
    "# fetch data\n",
    "mnist = input_data.read_data_sets(\"MNIST_data/\", one_hot=True)\n",
    "\n",
    "# model architecture \n",
    "n_dimensions = mnist.train.images[0].shape[0]\n",
    "n_classes = mnist.train.labels[0].shape[0]\n",
    "\n",
    "# hyperparams\n",
    "beta = 0.9  # decay rate - higher values result in slower decay rates\n",
    "n_epochs = 1000\n",
    "batch_size = 32\n",
    "lr = 1e-3  # step size - we want to take smaller steps as model starts to converge\n",
    "epsilon = 1e-8  # epsilon so we dont divide by zero"
   ]
  },
  {
   "cell_type": "code",
   "execution_count": null,
   "metadata": {},
   "outputs": [],
   "source": [
    "tf.reset_default_graph()\n",
    "\n",
    "with tf.variable_scope(\"inputs\"):\n",
    "    X_ = tf.placeholder(tf.float32, [None, n_dimensions], name=\"X\")\n",
    "    y_ = tf.placeholder(tf.float32, [None, n_classes], name=\"y\")\n",
    "\n",
    "with tf.variable_scope(\"model\"):\n",
    "    fc1 = tf.layers.dense(inputs=X_, units=n_classes, name='fc1', activation=tf.nn.relu)  \n",
    "    \n",
    "with tf.variable_scope('model/fc1', reuse=True):\n",
    "    w = tf.get_variable('kernel')\n",
    "\n",
    "probs = tf.nn.softmax(fc1)\n",
    "loss = tf.losses.log_loss(labels=y_, predictions=probs)\n",
    "grad = tf.gradients(loss, w)[0]  # raw gradients of loss function wrt params\n",
    "\n",
    "with tf.variable_scope(\"rms\"):\n",
    "    v = tf.Variable(tf.zeros([784, 10]), name=\"squared_gradients\")  # v represents squared gradients\n",
    "    g2 = grad * grad  # element wise multiplication\n",
    "    update_v = v.assign(beta * v + (1 - beta) * (g2))  # mixture of old and new squared gradients\n",
    "\n",
    "rms_update = grad/(tf.sqrt(v + epsilon))  # current gradient relative to moving average\n",
    "update_w = w.assign(w - lr * rms_update)\n",
    "    \n",
    "init = tf.global_variables_initializer()"
   ]
  },
  {
   "cell_type": "code",
   "execution_count": null,
   "metadata": {},
   "outputs": [],
   "source": [
    "ls_loss_ = []\n",
    "\n",
    "with tf.Session() as sess:  \n",
    "    sess.run(init)\n",
    "    \n",
    "    for epoch in tqdm(range(n_epochs)):\n",
    "        batch_xs, batch_ys = mnist.train.next_batch(batch_size)\n",
    "        \n",
    "        # first, update exponential average of squares of gradient\n",
    "        _ = sess.run(update_v, feed_dict={X_: batch_xs, y_: batch_ys})\n",
    "        \n",
    "        # then, step and compute loss\n",
    "        _, loss_, step_ = sess.run([update_w, loss, rms_update], feed_dict={X_: batch_xs, y_: batch_ys})\n",
    "        ls_loss_.append(loss_)\n",
    "        ls_rms_term.append(step_)"
   ]
  },
  {
   "cell_type": "code",
   "execution_count": null,
   "metadata": {},
   "outputs": [],
   "source": [
    "# pretty plot\n",
    "rolling_plot = pd.Series(ls_loss_).rolling(window=10).mean()\n",
    "plt.plot(rolling_plot)\n",
    "plt.xlabel(\"epochs\")\n",
    "plt.ylabel(\"loss\")\n",
    "plt.title(\"rmsprop loss\")"
   ]
  },
  {
   "cell_type": "code",
   "execution_count": null,
   "metadata": {},
   "outputs": [],
   "source": []
  }
 ],
 "metadata": {
  "kernelspec": {
   "display_name": "Python 3",
   "language": "python",
   "name": "python3"
  },
  "language_info": {
   "codemirror_mode": {
    "name": "ipython",
    "version": 3
   },
   "file_extension": ".py",
   "mimetype": "text/x-python",
   "name": "python",
   "nbconvert_exporter": "python",
   "pygments_lexer": "ipython3",
   "version": "3.7.3"
  }
 },
 "nbformat": 4,
 "nbformat_minor": 2
}
